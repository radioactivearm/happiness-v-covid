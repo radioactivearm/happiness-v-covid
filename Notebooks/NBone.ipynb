{
 "cells": [
  {
   "cell_type": "code",
   "execution_count": 1,
   "metadata": {},
   "outputs": [],
   "source": [
    "import matplotlib.pyplot as plt\n",
    "# import seaborn as sns\n",
    "# sns.set()\n",
    "import pandas as pd\n",
    "import numpy as np\n",
    "import scipy.stats as st"
   ]
  },
  {
   "cell_type": "markdown",
   "metadata": {},
   "source": [
    "# Setting Up Dataframe"
   ]
  },
  {
   "cell_type": "code",
   "execution_count": 2,
   "metadata": {},
   "outputs": [
    {
     "data": {
      "text/html": [
       "<div>\n",
       "<style scoped>\n",
       "    .dataframe tbody tr th:only-of-type {\n",
       "        vertical-align: middle;\n",
       "    }\n",
       "\n",
       "    .dataframe tbody tr th {\n",
       "        vertical-align: top;\n",
       "    }\n",
       "\n",
       "    .dataframe thead th {\n",
       "        text-align: right;\n",
       "    }\n",
       "</style>\n",
       "<table border=\"1\" class=\"dataframe\">\n",
       "  <thead>\n",
       "    <tr style=\"text-align: right;\">\n",
       "      <th></th>\n",
       "      <th>country</th>\n",
       "      <th>region</th>\n",
       "      <th>ladder_score</th>\n",
       "      <th>std_err</th>\n",
       "      <th>upperwhisker</th>\n",
       "      <th>lowerwhisker</th>\n",
       "      <th>GDP_per_capita</th>\n",
       "      <th>social_support</th>\n",
       "      <th>healthy_life_expectancy</th>\n",
       "      <th>freedom_to_make_life_choices</th>\n",
       "      <th>...</th>\n",
       "      <th>total_confirmed</th>\n",
       "      <th>total_deaths</th>\n",
       "      <th>total_recovered</th>\n",
       "      <th>active_cases</th>\n",
       "      <th>serious_or_critical</th>\n",
       "      <th>total_cases_per_1m_population</th>\n",
       "      <th>total_deaths_per_1m_population</th>\n",
       "      <th>total_tests</th>\n",
       "      <th>total_tests_per_1m_population</th>\n",
       "      <th>population</th>\n",
       "    </tr>\n",
       "  </thead>\n",
       "  <tbody>\n",
       "    <tr>\n",
       "      <th>0</th>\n",
       "      <td>Finland</td>\n",
       "      <td>Western Europe</td>\n",
       "      <td>7.842</td>\n",
       "      <td>0.032</td>\n",
       "      <td>7.904</td>\n",
       "      <td>7.780</td>\n",
       "      <td>10.775</td>\n",
       "      <td>0.954</td>\n",
       "      <td>72.0</td>\n",
       "      <td>0.949</td>\n",
       "      <td>...</td>\n",
       "      <td>95742</td>\n",
       "      <td>969.0</td>\n",
       "      <td>46000.0</td>\n",
       "      <td>48773.0</td>\n",
       "      <td>7.0</td>\n",
       "      <td>17253</td>\n",
       "      <td>175.0</td>\n",
       "      <td>5420876.0</td>\n",
       "      <td>976859.0</td>\n",
       "      <td>5549294</td>\n",
       "    </tr>\n",
       "    <tr>\n",
       "      <th>1</th>\n",
       "      <td>Denmark</td>\n",
       "      <td>Western Europe</td>\n",
       "      <td>7.620</td>\n",
       "      <td>0.035</td>\n",
       "      <td>7.687</td>\n",
       "      <td>7.552</td>\n",
       "      <td>10.933</td>\n",
       "      <td>0.954</td>\n",
       "      <td>72.7</td>\n",
       "      <td>0.946</td>\n",
       "      <td>...</td>\n",
       "      <td>293677</td>\n",
       "      <td>2534.0</td>\n",
       "      <td>288190.0</td>\n",
       "      <td>2953.0</td>\n",
       "      <td>12.0</td>\n",
       "      <td>50525</td>\n",
       "      <td>436.0</td>\n",
       "      <td>68626438.0</td>\n",
       "      <td>11806675.0</td>\n",
       "      <td>5812512</td>\n",
       "    </tr>\n",
       "    <tr>\n",
       "      <th>2</th>\n",
       "      <td>Switzerland</td>\n",
       "      <td>Western Europe</td>\n",
       "      <td>7.571</td>\n",
       "      <td>0.036</td>\n",
       "      <td>7.643</td>\n",
       "      <td>7.500</td>\n",
       "      <td>11.117</td>\n",
       "      <td>0.942</td>\n",
       "      <td>74.4</td>\n",
       "      <td>0.919</td>\n",
       "      <td>...</td>\n",
       "      <td>703004</td>\n",
       "      <td>10891.0</td>\n",
       "      <td>683865.0</td>\n",
       "      <td>8248.0</td>\n",
       "      <td>41.0</td>\n",
       "      <td>80642</td>\n",
       "      <td>1249.0</td>\n",
       "      <td>8306968.0</td>\n",
       "      <td>952897.0</td>\n",
       "      <td>8717589</td>\n",
       "    </tr>\n",
       "    <tr>\n",
       "      <th>3</th>\n",
       "      <td>Iceland</td>\n",
       "      <td>Western Europe</td>\n",
       "      <td>7.554</td>\n",
       "      <td>0.059</td>\n",
       "      <td>7.670</td>\n",
       "      <td>7.438</td>\n",
       "      <td>10.878</td>\n",
       "      <td>0.983</td>\n",
       "      <td>73.0</td>\n",
       "      <td>0.955</td>\n",
       "      <td>...</td>\n",
       "      <td>6649</td>\n",
       "      <td>30.0</td>\n",
       "      <td>6596.0</td>\n",
       "      <td>23.0</td>\n",
       "      <td>1.0</td>\n",
       "      <td>19360</td>\n",
       "      <td>87.0</td>\n",
       "      <td>767476.0</td>\n",
       "      <td>2234627.0</td>\n",
       "      <td>343447</td>\n",
       "    </tr>\n",
       "    <tr>\n",
       "      <th>4</th>\n",
       "      <td>Netherlands</td>\n",
       "      <td>Western Europe</td>\n",
       "      <td>7.464</td>\n",
       "      <td>0.027</td>\n",
       "      <td>7.518</td>\n",
       "      <td>7.410</td>\n",
       "      <td>10.932</td>\n",
       "      <td>0.942</td>\n",
       "      <td>72.4</td>\n",
       "      <td>0.913</td>\n",
       "      <td>...</td>\n",
       "      <td>1685000</td>\n",
       "      <td>17745.0</td>\n",
       "      <td>1631715.0</td>\n",
       "      <td>35540.0</td>\n",
       "      <td>137.0</td>\n",
       "      <td>98121</td>\n",
       "      <td>1033.0</td>\n",
       "      <td>14730069.0</td>\n",
       "      <td>857764.0</td>\n",
       "      <td>17172634</td>\n",
       "    </tr>\n",
       "  </tbody>\n",
       "</table>\n",
       "<p>5 rows × 31 columns</p>\n",
       "</div>"
      ],
      "text/plain": [
       "       country          region  ladder_score  std_err  upperwhisker  \\\n",
       "0      Finland  Western Europe         7.842    0.032         7.904   \n",
       "1      Denmark  Western Europe         7.620    0.035         7.687   \n",
       "2  Switzerland  Western Europe         7.571    0.036         7.643   \n",
       "3      Iceland  Western Europe         7.554    0.059         7.670   \n",
       "4  Netherlands  Western Europe         7.464    0.027         7.518   \n",
       "\n",
       "   lowerwhisker  GDP_per_capita  social_support  healthy_life_expectancy  \\\n",
       "0         7.780          10.775           0.954                     72.0   \n",
       "1         7.552          10.933           0.954                     72.7   \n",
       "2         7.500          11.117           0.942                     74.4   \n",
       "3         7.438          10.878           0.983                     73.0   \n",
       "4         7.410          10.932           0.942                     72.4   \n",
       "\n",
       "   freedom_to_make_life_choices  ...  total_confirmed  total_deaths  \\\n",
       "0                         0.949  ...            95742         969.0   \n",
       "1                         0.946  ...           293677        2534.0   \n",
       "2                         0.919  ...           703004       10891.0   \n",
       "3                         0.955  ...             6649          30.0   \n",
       "4                         0.913  ...          1685000       17745.0   \n",
       "\n",
       "   total_recovered  active_cases  serious_or_critical  \\\n",
       "0          46000.0       48773.0                  7.0   \n",
       "1         288190.0        2953.0                 12.0   \n",
       "2         683865.0        8248.0                 41.0   \n",
       "3           6596.0          23.0                  1.0   \n",
       "4        1631715.0       35540.0                137.0   \n",
       "\n",
       "   total_cases_per_1m_population  total_deaths_per_1m_population  total_tests  \\\n",
       "0                          17253                           175.0    5420876.0   \n",
       "1                          50525                           436.0   68626438.0   \n",
       "2                          80642                          1249.0    8306968.0   \n",
       "3                          19360                            87.0     767476.0   \n",
       "4                          98121                          1033.0   14730069.0   \n",
       "\n",
       "   total_tests_per_1m_population  population  \n",
       "0                       976859.0     5549294  \n",
       "1                     11806675.0     5812512  \n",
       "2                       952897.0     8717589  \n",
       "3                      2234627.0      343447  \n",
       "4                       857764.0    17172634  \n",
       "\n",
       "[5 rows x 31 columns]"
      ]
     },
     "execution_count": 2,
     "metadata": {},
     "output_type": "execute_result"
    }
   ],
   "source": [
    "filepath = '../Data/happyVcovid.csv'\n",
    "df = pd.read_csv(filepath)\n",
    "df.head()"
   ]
  },
  {
   "cell_type": "code",
   "execution_count": 3,
   "metadata": {},
   "outputs": [],
   "source": [
    "df = df.set_index('country')"
   ]
  },
  {
   "cell_type": "code",
   "execution_count": 4,
   "metadata": {},
   "outputs": [
    {
     "name": "stdout",
     "output_type": "stream",
     "text": [
      "<class 'pandas.core.frame.DataFrame'>\n",
      "Index: 108 entries, Finland to Afghanistan\n",
      "Data columns (total 30 columns):\n",
      " #   Column                           Non-Null Count  Dtype  \n",
      "---  ------                           --------------  -----  \n",
      " 0   region                           108 non-null    object \n",
      " 1   ladder_score                     108 non-null    float64\n",
      " 2   std_err                          108 non-null    float64\n",
      " 3   upperwhisker                     108 non-null    float64\n",
      " 4   lowerwhisker                     108 non-null    float64\n",
      " 5   GDP_per_capita                   108 non-null    float64\n",
      " 6   social_support                   108 non-null    float64\n",
      " 7   healthy_life_expectancy          108 non-null    float64\n",
      " 8   freedom_to_make_life_choices     108 non-null    float64\n",
      " 9   generosity                       108 non-null    float64\n",
      " 10  perceptions_of_corruption        108 non-null    float64\n",
      " 11  ladder_score_in_dystopia         108 non-null    float64\n",
      " 12  eb_GDP_per_capita                108 non-null    float64\n",
      " 13  eb_social_support                108 non-null    float64\n",
      " 14  eb_healthy_life_expectancy       108 non-null    float64\n",
      " 15  eb_freedom_to_make_life_choices  108 non-null    float64\n",
      " 16  eb_generosity                    108 non-null    float64\n",
      " 17  eb_perceptions_of_corruption     108 non-null    float64\n",
      " 18  dystopia_plus_residual           108 non-null    float64\n",
      " 19  continent                        108 non-null    object \n",
      " 20  total_confirmed                  108 non-null    int64  \n",
      " 21  total_deaths                     108 non-null    float64\n",
      " 22  total_recovered                  108 non-null    float64\n",
      " 23  active_cases                     108 non-null    float64\n",
      " 24  serious_or_critical              108 non-null    float64\n",
      " 25  total_cases_per_1m_population    108 non-null    int64  \n",
      " 26  total_deaths_per_1m_population   108 non-null    float64\n",
      " 27  total_tests                      108 non-null    float64\n",
      " 28  total_tests_per_1m_population    108 non-null    float64\n",
      " 29  population                       108 non-null    int64  \n",
      "dtypes: float64(25), int64(3), object(2)\n",
      "memory usage: 26.2+ KB\n"
     ]
    }
   ],
   "source": [
    "df.info()"
   ]
  },
  {
   "cell_type": "markdown",
   "metadata": {},
   "source": [
    "# Time To Explore The Data"
   ]
  },
  {
   "cell_type": "markdown",
   "metadata": {},
   "source": [
    "Starting with just looking at covid data"
   ]
  },
  {
   "cell_type": "code",
   "execution_count": 5,
   "metadata": {},
   "outputs": [
    {
     "data": {
      "image/png": "[encoded data removed]",
      "text/plain": [
       "<Figure size 432x288 with 1 Axes>"
      ]
     },
     "metadata": {
      "needs_background": "light"
     },
     "output_type": "display_data"
    }
   ],
   "source": [
    "df_popclone = df.copy()\n",
    "df_popclone = df_popclone.loc[df_popclone.population < 400000000, :]\n",
    "\n",
    "plt.scatter(df_popclone.population / 1000000, df_popclone.total_cases_per_1m_population / 1000)\n",
    "plt.title(\"Covid Cases by Countries Population\")\n",
    "plt.xlabel(\"Population (Millions)\")\n",
    "plt.ylabel(\"Covid-19 Cases (Thousands)\")\n",
    "plt.show()"
   ]
  },
  {
   "cell_type": "code",
   "execution_count": 6,
   "metadata": {},
   "outputs": [
    {
     "data": {
      "image/png": "[encoded data removed]",
      "text/plain": [
       "<Figure size 432x288 with 1 Axes>"
      ]
     },
     "metadata": {
      "needs_background": "light"
     },
     "output_type": "display_data"
    }
   ],
   "source": [
    "# Looking at relationship between cases and happiness\n",
    "plt.scatter(df.total_cases_per_1m_population / 1000, df.ladder_score)\n",
    "plt.show()"
   ]
  },
  {
   "cell_type": "code",
   "execution_count": 14,
   "metadata": {},
   "outputs": [
    {
     "name": "stdout",
     "output_type": "stream",
     "text": [
      "The correlation coefficient for Covid Cases and Happiness rating is 0.49\n",
      "\n",
      "The coefficient of determination for Covid Cases and Happiness rating is 0.24\n",
      "\n",
      "y = 1.3e-05 x + 5.08\n"
     ]
    }
   ],
   "source": [
    "# looking for a regression on the above graph\n",
    "(slope, intercept, rvalue, pvalue, stderr) = st.linregress(df.total_cases_per_1m_population, df.ladder_score)\n",
    "regress_values = df.total_cases_per_1m_population * slope + intercept\n",
    "line_eq = f'y = {round(slope,6)} x + {round(intercept,2)}'\n",
    "r_str = f'r = {round(rvalue,3)}'\n",
    "\n",
    "# looking at correlation coefficient\n",
    "r = st.pearsonr(df.total_cases_per_1m_population, df.ladder_score)\n",
    "r_sq = r[0]**2\n",
    "\n",
    "print(f'The correlation coefficient for Covid Cases and Happiness rating is {round(rvalue,2)}\\n')\n",
    "print(f'The coefficient of determination for Covid Cases and Happiness rating is {round(r_sq,2)}\\n')\n",
    "print(line_eq)"
   ]
  },
  {
   "cell_type": "code",
   "execution_count": 26,
   "metadata": {},
   "outputs": [
    {
     "data": {
      "image/png": "[encoded data removed]",
      "text/plain": [
       "<Figure size 864x576 with 1 Axes>"
      ]
     },
     "metadata": {
      "needs_background": "light"
     },
     "output_type": "display_data"
    }
   ],
   "source": [
    "# Plotting with with linear regression line\n",
    "\n",
    "plt.figure(figsize=(12,8))\n",
    "\n",
    "plt.scatter(df.total_cases_per_1m_population / 1000, df.ladder_score, color='purple')\n",
    "plt.plot(df.total_cases_per_1m_population / 1000, regress_values, color='red')\n",
    "\n",
    "plt.title('Covid Cases VS Happiness Score', fontsize=22)\n",
    "plt.xlabel('Cases per 1 Million Population (Thousands)', fontsize=18)\n",
    "plt.ylabel('Happiness Score', fontsize=18)\n",
    "\n",
    "plt.annotate(line_eq, (80, 5.5), color='red', fontsize=14)\n",
    "plt.annotate(r_str, (80, 5.2), color='red', fontsize=14)\n",
    "\n",
    "plt.savefig('../Images/covidvhappiness.png')\n",
    "\n",
    "plt.show()"
   ]
  },
  {
   "cell_type": "code",
   "execution_count": null,
   "metadata": {},
   "outputs": [],
   "source": []
  }
 ],
 "metadata": {
  "kernelspec": {
   "display_name": "Python 3",
   "language": "python",
   "name": "python3"
  },
  "language_info": {
   "codemirror_mode": {
    "name": "ipython",
    "version": 3
   },
   "file_extension": ".py",
   "mimetype": "text/x-python",
   "name": "python",
   "nbconvert_exporter": "python",
   "pygments_lexer": "ipython3",
   "version": "3.6.10"
  }
 },
 "nbformat": 4,
 "nbformat_minor": 4
}
